{
 "cells": [
  {
   "cell_type": "markdown",
   "id": "amino-conservative",
   "metadata": {},
   "source": [
    "# Optimizing Pressure Drop Equation for Desired Parameters\n",
    "\n",
    "In terms of my iteration process, I used Python to optimize the given pressure drop equation to find the optimal parameters alpha, A, and t necessary to minimize the pressure drop (in other words, get it under 1000 Pa). I found this method to be much more efficient than plugging in multiple different values of alpha, A, and t and calculating the pressure until it became under 1000 Pa. The code I have for my iteration process (with explanation) is shown below."
   ]
  },
  {
   "cell_type": "markdown",
   "id": "static-runner",
   "metadata": {},
   "source": [
    "## Imports\n",
    "These are the modules necessary for optimizing our pressure drop equation. "
   ]
  },
  {
   "cell_type": "code",
   "execution_count": 1,
   "id": "italian-shape",
   "metadata": {},
   "outputs": [],
   "source": [
    "# imports\n",
    "import math\n",
    "from scipy import optimize"
   ]
  },
  {
   "cell_type": "markdown",
   "id": "synthetic-moderator",
   "metadata": {},
   "source": [
    "## Defining functions for K and pressure drop\n",
    "These are the functions that we will be using for K (which is a function of alpha) and the pressure drop (which is a function of A, t, and K (function of alpha))"
   ]
  },
  {
   "cell_type": "code",
   "execution_count": 2,
   "id": "appreciated-white",
   "metadata": {},
   "outputs": [],
   "source": [
    "# function definition \n",
    "def k(x):\n",
    "    return x - ((x ** 2) / 4) - ((math.log(x)) / 2) - (3 / 4)\n",
    "\n",
    "def delta_p(xyz):\n",
    "    alpha, A, t = xyz\n",
    "    return 500040 * (alpha / (1 - alpha)) * (t / (A * k(alpha)))"
   ]
  },
  {
   "cell_type": "markdown",
   "id": "particular-immune",
   "metadata": {},
   "source": [
    "## Optimization\n",
    "Using scipy's optimize module, we can minimize the pressure drop function given a set of bounds on alpha, A, and t. "
   ]
  },
  {
   "cell_type": "code",
   "execution_count": 3,
   "id": "flying-synthesis",
   "metadata": {},
   "outputs": [],
   "source": [
    "# constrained optimization\n",
    "bnds = ((0.01, 0.3), (0.0001, 0.092903), (0.0127, 0.3048))\n",
    "p = optimize.minimize(delta_p, (0.1, 0.5, 0.75), bounds = bnds)"
   ]
  },
  {
   "cell_type": "markdown",
   "id": "announced-fight",
   "metadata": {},
   "source": [
    "## Output\n",
    "Print out the minimized value of the pressure drop, and the corresponding values of alpha, A, and t. "
   ]
  },
  {
   "cell_type": "code",
   "execution_count": 4,
   "id": "formal-morrison",
   "metadata": {},
   "outputs": [
    {
     "name": "stdout",
     "output_type": "stream",
     "text": [
      "delta_p: 441.8825037163995\n",
      "alpha: 0.01\n",
      "A: 0.092903\n",
      "t: 0.0127\n"
     ]
    }
   ],
   "source": [
    "# output\n",
    "print(f\"delta_p: {p.fun}\")\n",
    "labels = [\"alpha\", \"A\", \"t\"]\n",
    "for i in range(len(p.x)):\n",
    "    print(f\"{labels[i]}: {p.x[i]}\")"
   ]
  }
 ],
 "metadata": {
  "kernelspec": {
   "display_name": "Python 3",
   "language": "python",
   "name": "python3"
  },
  "language_info": {
   "codemirror_mode": {
    "name": "ipython",
    "version": 3
   },
   "file_extension": ".py",
   "mimetype": "text/x-python",
   "name": "python",
   "nbconvert_exporter": "python",
   "pygments_lexer": "ipython3",
   "version": "3.9.0"
  }
 },
 "nbformat": 4,
 "nbformat_minor": 5
}
